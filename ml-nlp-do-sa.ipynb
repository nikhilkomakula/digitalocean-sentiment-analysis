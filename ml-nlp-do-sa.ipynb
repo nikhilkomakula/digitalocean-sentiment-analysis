{
 "cells": [
  {
   "cell_type": "markdown",
   "metadata": {},
   "source": [
    "# Sentiment Analysis"
   ]
  },
  {
   "cell_type": "code",
   "execution_count": 1,
   "metadata": {
    "execution": {
     "iopub.execute_input": "2023-11-15T21:07:32.715965Z",
     "iopub.status.busy": "2023-11-15T21:07:32.715218Z",
     "iopub.status.idle": "2023-11-15T21:07:37.352503Z",
     "shell.execute_reply": "2023-11-15T21:07:37.351769Z",
     "shell.execute_reply.started": "2023-11-15T21:07:32.715936Z"
    }
   },
   "outputs": [
    {
     "name": "stdout",
     "output_type": "stream",
     "text": [
      "Collecting gensim\n",
      "  Downloading gensim-4.3.2-cp39-cp39-manylinux_2_17_x86_64.manylinux2014_x86_64.whl (26.6 MB)\n",
      "\u001b[2K     \u001b[90m━━━━━━━━━━━━━━━━━━━━━━━━━━━━━━━━━━━━━━━━\u001b[0m \u001b[32m26.6/26.6 MB\u001b[0m \u001b[31m44.7 MB/s\u001b[0m eta \u001b[36m0:00:00\u001b[0m00:01\u001b[0m00:01\u001b[0m\n",
      "\u001b[?25hRequirement already satisfied: numpy>=1.18.5 in /usr/local/lib/python3.9/dist-packages (from gensim) (1.23.4)\n",
      "Requirement already satisfied: smart-open>=1.8.1 in /usr/local/lib/python3.9/dist-packages (from gensim) (6.3.0)\n",
      "Requirement already satisfied: scipy>=1.7.0 in /usr/local/lib/python3.9/dist-packages (from gensim) (1.9.2)\n",
      "Installing collected packages: gensim\n",
      "Successfully installed gensim-4.3.2\n",
      "\u001b[33mWARNING: Running pip as the 'root' user can result in broken permissions and conflicting behaviour with the system package manager. It is recommended to use a virtual environment instead: https://pip.pypa.io/warnings/venv\u001b[0m\u001b[33m\n",
      "\u001b[0m"
     ]
    }
   ],
   "source": [
    "# install libraries\n",
    "!pip install gensim"
   ]
  },
  {
   "cell_type": "code",
   "execution_count": 2,
   "metadata": {
    "execution": {
     "iopub.execute_input": "2023-11-15T21:07:37.354175Z",
     "iopub.status.busy": "2023-11-15T21:07:37.353895Z",
     "iopub.status.idle": "2023-11-15T21:07:41.684201Z",
     "shell.execute_reply": "2023-11-15T21:07:41.683405Z",
     "shell.execute_reply.started": "2023-11-15T21:07:37.354139Z"
    }
   },
   "outputs": [],
   "source": [
    "# import libraries\n",
    "import os\n",
    "import re\n",
    "import nltk\n",
    "import pickle\n",
    "import itertools\n",
    "import numpy as np\n",
    "import pandas as pd\n",
    "import seaborn as sb\n",
    "import tensorflow as tf\n",
    "import matplotlib.pyplot as plt\n",
    "from nltk.corpus import stopwords\n",
    "from gensim.models import Word2Vec\n",
    "from nltk.stem import WordNetLemmatizer\n",
    "from sklearn.preprocessing import LabelEncoder\n",
    "from keras.preprocessing.text import Tokenizer\n",
    "from sklearn.model_selection import train_test_split\n",
    "from keras_preprocessing.sequence import pad_sequences\n",
    "from keras.models import Sequential\n",
    "from keras.layers import Dense, Dropout, Embedding, LSTM, SpatialDropout1D, Bidirectional, Conv1D\n",
    "from keras.callbacks import ReduceLROnPlateau, EarlyStopping\n",
    "from sklearn.metrics import classification_report, confusion_matrix, roc_curve, auc\n",
    "\n",
    "%matplotlib inline"
   ]
  },
  {
   "cell_type": "code",
   "execution_count": 3,
   "metadata": {
    "execution": {
     "iopub.execute_input": "2023-11-15T21:07:41.685698Z",
     "iopub.status.busy": "2023-11-15T21:07:41.685250Z",
     "iopub.status.idle": "2023-11-15T21:07:42.088826Z",
     "shell.execute_reply": "2023-11-15T21:07:42.087919Z",
     "shell.execute_reply.started": "2023-11-15T21:07:41.685671Z"
    }
   },
   "outputs": [
    {
     "name": "stderr",
     "output_type": "stream",
     "text": [
      "[nltk_data] Downloading package stopwords to /root/nltk_data...\n",
      "[nltk_data]   Unzipping corpora/stopwords.zip.\n",
      "[nltk_data] Downloading package wordnet to /root/nltk_data...\n",
      "[nltk_data] Downloading package omw-1.4 to /root/nltk_data...\n"
     ]
    }
   ],
   "source": [
    "# download wordnet, stopwords, omw\n",
    "nltk.download('stopwords')\n",
    "stopwords = stopwords.words('english')\n",
    "nltk.download('wordnet')\n",
    "nltk.download('omw-1.4')\n",
    "lemmatizer = WordNetLemmatizer()"
   ]
  },
  {
   "cell_type": "code",
   "execution_count": 4,
   "metadata": {
    "execution": {
     "iopub.execute_input": "2023-11-15T21:07:42.091274Z",
     "iopub.status.busy": "2023-11-15T21:07:42.091018Z",
     "iopub.status.idle": "2023-11-15T21:07:42.097054Z",
     "shell.execute_reply": "2023-11-15T21:07:42.096208Z",
     "shell.execute_reply.started": "2023-11-15T21:07:42.091250Z"
    }
   },
   "outputs": [],
   "source": [
    "# declare constants\n",
    "DATASET_FOLDER = '/datasets/sentiment-analysis-dataset'\n",
    "DATASET_FILENAME = 'training.1600000.processed.noemoticon.csv'\n",
    "DATASET_COLUMNS = ['sentiment', 'id', 'timestamp', 'flag', 'user', 'text']\n",
    "TEXT_PREPROCESS_RE = '@\\S+|https?:\\S+|http?:\\S|[^A-Za-z0-9]+'\n",
    "W2V_SIZE = 300\n",
    "W2V_WINDOW = 7\n",
    "W2V_EPOCH = 30\n",
    "W2V_MIN_COUNT = 10\n",
    "MAX_LENGTH = 300\n",
    "POSITIVE = 'Positive'\n",
    "NEGATIVE = 'Negative'\n",
    "NEUTRAL = 'Neutral'\n",
    "SENTIMENT_THRESHOLD = 0.5\n",
    "SENTIMENT_THRESHOLDS = (0.4, 0.6)\n",
    "SA_MODEL = 'sa_model.keras'\n",
    "TOKENIZER = 'tokenizer.pkl'\n",
    "MODELS_FOLDER = 'models'"
   ]
  },
  {
   "cell_type": "code",
   "execution_count": 5,
   "metadata": {
    "execution": {
     "iopub.execute_input": "2023-11-15T21:07:42.098692Z",
     "iopub.status.busy": "2023-11-15T21:07:42.098448Z",
     "iopub.status.idle": "2023-11-15T21:07:42.105612Z",
     "shell.execute_reply": "2023-11-15T21:07:42.104583Z",
     "shell.execute_reply.started": "2023-11-15T21:07:42.098669Z"
    }
   },
   "outputs": [
    {
     "data": {
      "text/plain": [
       "'/datasets/sentiment-analysis-dataset/training.1600000.processed.noemoticon.csv'"
      ]
     },
     "execution_count": 5,
     "metadata": {},
     "output_type": "execute_result"
    }
   ],
   "source": [
    "# dataset path\n",
    "dataset_path = os.path.join(DATASET_FOLDER, DATASET_FILENAME)\n",
    "dataset_path"
   ]
  },
  {
   "cell_type": "markdown",
   "metadata": {},
   "source": [
    "## Data Ingestion"
   ]
  },
  {
   "cell_type": "code",
   "execution_count": 6,
   "metadata": {
    "execution": {
     "iopub.execute_input": "2023-11-15T21:07:42.106833Z",
     "iopub.status.busy": "2023-11-15T21:07:42.106603Z",
     "iopub.status.idle": "2023-11-15T21:07:46.692546Z",
     "shell.execute_reply": "2023-11-15T21:07:46.691717Z",
     "shell.execute_reply.started": "2023-11-15T21:07:42.106810Z"
    }
   },
   "outputs": [
    {
     "data": {
      "text/html": [
       "<div>\n",
       "<style scoped>\n",
       "    .dataframe tbody tr th:only-of-type {\n",
       "        vertical-align: middle;\n",
       "    }\n",
       "\n",
       "    .dataframe tbody tr th {\n",
       "        vertical-align: top;\n",
       "    }\n",
       "\n",
       "    .dataframe thead th {\n",
       "        text-align: right;\n",
       "    }\n",
       "</style>\n",
       "<table border=\"1\" class=\"dataframe\">\n",
       "  <thead>\n",
       "    <tr style=\"text-align: right;\">\n",
       "      <th></th>\n",
       "      <th>sentiment</th>\n",
       "      <th>id</th>\n",
       "      <th>timestamp</th>\n",
       "      <th>flag</th>\n",
       "      <th>user</th>\n",
       "      <th>text</th>\n",
       "    </tr>\n",
       "  </thead>\n",
       "  <tbody>\n",
       "    <tr>\n",
       "      <th>0</th>\n",
       "      <td>0</td>\n",
       "      <td>1467810369</td>\n",
       "      <td>Mon Apr 06 22:19:45 PDT 2009</td>\n",
       "      <td>NO_QUERY</td>\n",
       "      <td>_TheSpecialOne_</td>\n",
       "      <td>@switchfoot http://twitpic.com/2y1zl - Awww, t...</td>\n",
       "    </tr>\n",
       "    <tr>\n",
       "      <th>1</th>\n",
       "      <td>0</td>\n",
       "      <td>1467810672</td>\n",
       "      <td>Mon Apr 06 22:19:49 PDT 2009</td>\n",
       "      <td>NO_QUERY</td>\n",
       "      <td>scotthamilton</td>\n",
       "      <td>is upset that he can't update his Facebook by ...</td>\n",
       "    </tr>\n",
       "    <tr>\n",
       "      <th>2</th>\n",
       "      <td>0</td>\n",
       "      <td>1467810917</td>\n",
       "      <td>Mon Apr 06 22:19:53 PDT 2009</td>\n",
       "      <td>NO_QUERY</td>\n",
       "      <td>mattycus</td>\n",
       "      <td>@Kenichan I dived many times for the ball. Man...</td>\n",
       "    </tr>\n",
       "    <tr>\n",
       "      <th>3</th>\n",
       "      <td>0</td>\n",
       "      <td>1467811184</td>\n",
       "      <td>Mon Apr 06 22:19:57 PDT 2009</td>\n",
       "      <td>NO_QUERY</td>\n",
       "      <td>ElleCTF</td>\n",
       "      <td>my whole body feels itchy and like its on fire</td>\n",
       "    </tr>\n",
       "    <tr>\n",
       "      <th>4</th>\n",
       "      <td>0</td>\n",
       "      <td>1467811193</td>\n",
       "      <td>Mon Apr 06 22:19:57 PDT 2009</td>\n",
       "      <td>NO_QUERY</td>\n",
       "      <td>Karoli</td>\n",
       "      <td>@nationwideclass no, it's not behaving at all....</td>\n",
       "    </tr>\n",
       "  </tbody>\n",
       "</table>\n",
       "</div>"
      ],
      "text/plain": [
       "   sentiment          id                     timestamp      flag  \\\n",
       "0          0  1467810369  Mon Apr 06 22:19:45 PDT 2009  NO_QUERY   \n",
       "1          0  1467810672  Mon Apr 06 22:19:49 PDT 2009  NO_QUERY   \n",
       "2          0  1467810917  Mon Apr 06 22:19:53 PDT 2009  NO_QUERY   \n",
       "3          0  1467811184  Mon Apr 06 22:19:57 PDT 2009  NO_QUERY   \n",
       "4          0  1467811193  Mon Apr 06 22:19:57 PDT 2009  NO_QUERY   \n",
       "\n",
       "              user                                               text  \n",
       "0  _TheSpecialOne_  @switchfoot http://twitpic.com/2y1zl - Awww, t...  \n",
       "1    scotthamilton  is upset that he can't update his Facebook by ...  \n",
       "2         mattycus  @Kenichan I dived many times for the ball. Man...  \n",
       "3          ElleCTF    my whole body feels itchy and like its on fire   \n",
       "4           Karoli  @nationwideclass no, it's not behaving at all....  "
      ]
     },
     "execution_count": 6,
     "metadata": {},
     "output_type": "execute_result"
    }
   ],
   "source": [
    "# read dataset\n",
    "df = pd.read_csv(dataset_path, encoding='ISO-8859-1', names=DATASET_COLUMNS)\n",
    "df.head()"
   ]
  },
  {
   "cell_type": "code",
   "execution_count": 7,
   "metadata": {
    "execution": {
     "iopub.execute_input": "2023-11-15T21:07:46.694215Z",
     "iopub.status.busy": "2023-11-15T21:07:46.693951Z",
     "iopub.status.idle": "2023-11-15T21:07:46.699654Z",
     "shell.execute_reply": "2023-11-15T21:07:46.698709Z",
     "shell.execute_reply.started": "2023-11-15T21:07:46.694190Z"
    }
   },
   "outputs": [
    {
     "data": {
      "text/plain": [
       "(1600000, 6)"
      ]
     },
     "execution_count": 7,
     "metadata": {},
     "output_type": "execute_result"
    }
   ],
   "source": [
    "# print shape\n",
    "df.shape"
   ]
  },
  {
   "cell_type": "code",
   "execution_count": 8,
   "metadata": {
    "execution": {
     "iopub.execute_input": "2023-11-15T21:07:46.701127Z",
     "iopub.status.busy": "2023-11-15T21:07:46.700894Z",
     "iopub.status.idle": "2023-11-15T21:07:47.532420Z",
     "shell.execute_reply": "2023-11-15T21:07:47.531243Z",
     "shell.execute_reply.started": "2023-11-15T21:07:46.701104Z"
    }
   },
   "outputs": [
    {
     "name": "stdout",
     "output_type": "stream",
     "text": [
      "<class 'pandas.core.frame.DataFrame'>\n",
      "RangeIndex: 1600000 entries, 0 to 1599999\n",
      "Data columns (total 6 columns):\n",
      " #   Column     Non-Null Count    Dtype \n",
      "---  ------     --------------    ----- \n",
      " 0   sentiment  1600000 non-null  int64 \n",
      " 1   id         1600000 non-null  int64 \n",
      " 2   timestamp  1600000 non-null  object\n",
      " 3   flag       1600000 non-null  object\n",
      " 4   user       1600000 non-null  object\n",
      " 5   text       1600000 non-null  object\n",
      "dtypes: int64(2), object(4)\n",
      "memory usage: 73.2+ MB\n"
     ]
    }
   ],
   "source": [
    "# print info\n",
    "df.info()"
   ]
  },
  {
   "cell_type": "code",
   "execution_count": 9,
   "metadata": {
    "execution": {
     "iopub.execute_input": "2023-11-15T21:07:47.534325Z",
     "iopub.status.busy": "2023-11-15T21:07:47.534027Z",
     "iopub.status.idle": "2023-11-15T21:07:48.373102Z",
     "shell.execute_reply": "2023-11-15T21:07:48.372192Z",
     "shell.execute_reply.started": "2023-11-15T21:07:47.534259Z"
    }
   },
   "outputs": [
    {
     "data": {
      "text/plain": [
       "sentiment    0\n",
       "id           0\n",
       "timestamp    0\n",
       "flag         0\n",
       "user         0\n",
       "text         0\n",
       "dtype: int64"
      ]
     },
     "execution_count": 9,
     "metadata": {},
     "output_type": "execute_result"
    }
   ],
   "source": [
    "# Check for nulls\n",
    "df.isna().sum()"
   ]
  },
  {
   "cell_type": "code",
   "execution_count": 10,
   "metadata": {
    "execution": {
     "iopub.execute_input": "2023-11-15T21:07:48.377607Z",
     "iopub.status.busy": "2023-11-15T21:07:48.376643Z",
     "iopub.status.idle": "2023-11-15T21:07:48.394926Z",
     "shell.execute_reply": "2023-11-15T21:07:48.393779Z",
     "shell.execute_reply.started": "2023-11-15T21:07:48.377576Z"
    }
   },
   "outputs": [
    {
     "data": {
      "text/plain": [
       "array([0, 4])"
      ]
     },
     "execution_count": 10,
     "metadata": {},
     "output_type": "execute_result"
    }
   ],
   "source": [
    "# print unique values of sentiment column\n",
    "df['sentiment'].unique()"
   ]
  },
  {
   "cell_type": "code",
   "execution_count": 11,
   "metadata": {
    "execution": {
     "iopub.execute_input": "2023-11-15T21:07:48.396640Z",
     "iopub.status.busy": "2023-11-15T21:07:48.396289Z",
     "iopub.status.idle": "2023-11-15T21:07:48.416351Z",
     "shell.execute_reply": "2023-11-15T21:07:48.415280Z",
     "shell.execute_reply.started": "2023-11-15T21:07:48.396605Z"
    }
   },
   "outputs": [
    {
     "data": {
      "text/plain": [
       "0    800000\n",
       "4    800000\n",
       "Name: sentiment, dtype: int64"
      ]
     },
     "execution_count": 11,
     "metadata": {},
     "output_type": "execute_result"
    }
   ],
   "source": [
    "# target is balanced\n",
    "df['sentiment'].value_counts()"
   ]
  },
  {
   "cell_type": "code",
   "execution_count": 12,
   "metadata": {
    "execution": {
     "iopub.execute_input": "2023-11-15T21:07:48.418207Z",
     "iopub.status.busy": "2023-11-15T21:07:48.417635Z",
     "iopub.status.idle": "2023-11-15T21:07:48.585673Z",
     "shell.execute_reply": "2023-11-15T21:07:48.584992Z",
     "shell.execute_reply.started": "2023-11-15T21:07:48.418170Z"
    }
   },
   "outputs": [
    {
     "data": {
      "image/png": "[encoded data removed]",
      "text/plain": [
       "<Figure size 640x480 with 1 Axes>"
      ]
     },
     "metadata": {},
     "output_type": "display_data"
    }
   ],
   "source": [
    "# plot sentiment\n",
    "df['sentiment'].value_counts().plot(kind='bar');"
   ]
  },
  {
   "cell_type": "markdown",
   "metadata": {},
   "source": [
    "## Data Preprocessing"
   ]
  },
  {
   "cell_type": "markdown",
   "metadata": {},
   "source": [
    "Convert Sentiment to String\n",
    "* 0 - Negative\n",
    "* 4 - Positive"
   ]
  },
  {
   "cell_type": "code",
   "execution_count": 13,
   "metadata": {
    "execution": {
     "iopub.execute_input": "2023-11-15T21:07:48.586911Z",
     "iopub.status.busy": "2023-11-15T21:07:48.586652Z",
     "iopub.status.idle": "2023-11-15T21:07:48.591198Z",
     "shell.execute_reply": "2023-11-15T21:07:48.590315Z",
     "shell.execute_reply.started": "2023-11-15T21:07:48.586885Z"
    }
   },
   "outputs": [],
   "source": [
    "# map sentiment integer to string\n",
    "sentiment_map = {\n",
    "                0: 'Negative', \n",
    "                4: 'Positive'\n",
    "            }"
   ]
  },
  {
   "cell_type": "code",
   "execution_count": 14,
   "metadata": {
    "execution": {
     "iopub.execute_input": "2023-11-15T21:07:48.592598Z",
     "iopub.status.busy": "2023-11-15T21:07:48.592354Z",
     "iopub.status.idle": "2023-11-15T21:07:49.209187Z",
     "shell.execute_reply": "2023-11-15T21:07:49.208344Z",
     "shell.execute_reply.started": "2023-11-15T21:07:48.592575Z"
    }
   },
   "outputs": [
    {
     "data": {
      "text/html": [
       "<div>\n",
       "<style scoped>\n",
       "    .dataframe tbody tr th:only-of-type {\n",
       "        vertical-align: middle;\n",
       "    }\n",
       "\n",
       "    .dataframe tbody tr th {\n",
       "        vertical-align: top;\n",
       "    }\n",
       "\n",
       "    .dataframe thead th {\n",
       "        text-align: right;\n",
       "    }\n",
       "</style>\n",
       "<table border=\"1\" class=\"dataframe\">\n",
       "  <thead>\n",
       "    <tr style=\"text-align: right;\">\n",
       "      <th></th>\n",
       "      <th>sentiment</th>\n",
       "      <th>id</th>\n",
       "      <th>timestamp</th>\n",
       "      <th>flag</th>\n",
       "      <th>user</th>\n",
       "      <th>text</th>\n",
       "    </tr>\n",
       "  </thead>\n",
       "  <tbody>\n",
       "    <tr>\n",
       "      <th>404828</th>\n",
       "      <td>Negative</td>\n",
       "      <td>2058515942</td>\n",
       "      <td>Sat Jun 06 15:05:43 PDT 2009</td>\n",
       "      <td>NO_QUERY</td>\n",
       "      <td>theswagflu</td>\n",
       "      <td>rt @jerzicuai post pics and no one checks them...</td>\n",
       "    </tr>\n",
       "    <tr>\n",
       "      <th>1206466</th>\n",
       "      <td>Positive</td>\n",
       "      <td>1986812597</td>\n",
       "      <td>Sun May 31 19:21:05 PDT 2009</td>\n",
       "      <td>NO_QUERY</td>\n",
       "      <td>karlaanarlaa</td>\n",
       "      <td>Such a goood weekendd  do not want to go to sc...</td>\n",
       "    </tr>\n",
       "    <tr>\n",
       "      <th>409340</th>\n",
       "      <td>Negative</td>\n",
       "      <td>2059623663</td>\n",
       "      <td>Sat Jun 06 17:18:18 PDT 2009</td>\n",
       "      <td>NO_QUERY</td>\n",
       "      <td>MissNattyBaby</td>\n",
       "      <td>@godannygo Danny Sorry About Earlyer E Cut The...</td>\n",
       "    </tr>\n",
       "    <tr>\n",
       "      <th>534174</th>\n",
       "      <td>Negative</td>\n",
       "      <td>2197440336</td>\n",
       "      <td>Tue Jun 16 13:47:14 PDT 2009</td>\n",
       "      <td>NO_QUERY</td>\n",
       "      <td>pekav</td>\n",
       "      <td>@nclstu I didn't even know twitter was going d...</td>\n",
       "    </tr>\n",
       "    <tr>\n",
       "      <th>53282</th>\n",
       "      <td>Negative</td>\n",
       "      <td>1680157297</td>\n",
       "      <td>Sat May 02 11:02:01 PDT 2009</td>\n",
       "      <td>NO_QUERY</td>\n",
       "      <td>Wyldceltic1</td>\n",
       "      <td>And of course, I finally have some $$ to buy t...</td>\n",
       "    </tr>\n",
       "  </tbody>\n",
       "</table>\n",
       "</div>"
      ],
      "text/plain": [
       "        sentiment          id                     timestamp      flag  \\\n",
       "404828   Negative  2058515942  Sat Jun 06 15:05:43 PDT 2009  NO_QUERY   \n",
       "1206466  Positive  1986812597  Sun May 31 19:21:05 PDT 2009  NO_QUERY   \n",
       "409340   Negative  2059623663  Sat Jun 06 17:18:18 PDT 2009  NO_QUERY   \n",
       "534174   Negative  2197440336  Tue Jun 16 13:47:14 PDT 2009  NO_QUERY   \n",
       "53282    Negative  1680157297  Sat May 02 11:02:01 PDT 2009  NO_QUERY   \n",
       "\n",
       "                  user                                               text  \n",
       "404828      theswagflu  rt @jerzicuai post pics and no one checks them...  \n",
       "1206466   karlaanarlaa  Such a goood weekendd  do not want to go to sc...  \n",
       "409340   MissNattyBaby  @godannygo Danny Sorry About Earlyer E Cut The...  \n",
       "534174           pekav  @nclstu I didn't even know twitter was going d...  \n",
       "53282      Wyldceltic1  And of course, I finally have some $$ to buy t...  "
      ]
     },
     "execution_count": 14,
     "metadata": {},
     "output_type": "execute_result"
    }
   ],
   "source": [
    "# convert sentiment to string\n",
    "df['sentiment'] = df['sentiment'].apply(lambda x: sentiment_map[int(x)])\n",
    "df.sample(5)"
   ]
  },
  {
   "cell_type": "code",
   "execution_count": 15,
   "metadata": {
    "execution": {
     "iopub.execute_input": "2023-11-15T21:07:49.210799Z",
     "iopub.status.busy": "2023-11-15T21:07:49.210489Z",
     "iopub.status.idle": "2023-11-15T21:07:49.216395Z",
     "shell.execute_reply": "2023-11-15T21:07:49.215626Z",
     "shell.execute_reply.started": "2023-11-15T21:07:49.210773Z"
    }
   },
   "outputs": [],
   "source": [
    "# function to preprocess the text\n",
    "def preprocess_text(text, lemmatize=False):\n",
    "    # exclude hyperlinks, usernames and special characters\n",
    "    text = re.sub(TEXT_PREPROCESS_RE, ' ', str(text).lower()).strip()\n",
    "    tokens = []\n",
    "    for token in text.split():\n",
    "        if token not in stopwords:\n",
    "            if lemmatize:\n",
    "                tokens.append(lemmatizer.lemmatize(token))\n",
    "            else:\n",
    "                tokens.append(token)\n",
    "    return ' '.join(tokens)"
   ]
  },
  {
   "cell_type": "code",
   "execution_count": 16,
   "metadata": {
    "execution": {
     "iopub.execute_input": "2023-11-15T21:07:49.217984Z",
     "iopub.status.busy": "2023-11-15T21:07:49.217656Z",
     "iopub.status.idle": "2023-11-15T21:09:11.157838Z",
     "shell.execute_reply": "2023-11-15T21:09:11.156927Z",
     "shell.execute_reply.started": "2023-11-15T21:07:49.217951Z"
    }
   },
   "outputs": [
    {
     "data": {
      "text/html": [
       "<div>\n",
       "<style scoped>\n",
       "    .dataframe tbody tr th:only-of-type {\n",
       "        vertical-align: middle;\n",
       "    }\n",
       "\n",
       "    .dataframe tbody tr th {\n",
       "        vertical-align: top;\n",
       "    }\n",
       "\n",
       "    .dataframe thead th {\n",
       "        text-align: right;\n",
       "    }\n",
       "</style>\n",
       "<table border=\"1\" class=\"dataframe\">\n",
       "  <thead>\n",
       "    <tr style=\"text-align: right;\">\n",
       "      <th></th>\n",
       "      <th>clean_text</th>\n",
       "      <th>sentiment</th>\n",
       "    </tr>\n",
       "  </thead>\n",
       "  <tbody>\n",
       "    <tr>\n",
       "      <th>0</th>\n",
       "      <td>awww bummer shoulda got david carr third day</td>\n",
       "      <td>Negative</td>\n",
       "    </tr>\n",
       "    <tr>\n",
       "      <th>1</th>\n",
       "      <td>upset update facebook texting might cry result...</td>\n",
       "      <td>Negative</td>\n",
       "    </tr>\n",
       "    <tr>\n",
       "      <th>2</th>\n",
       "      <td>dived many time ball managed save 50 rest go b...</td>\n",
       "      <td>Negative</td>\n",
       "    </tr>\n",
       "    <tr>\n",
       "      <th>3</th>\n",
       "      <td>whole body feel itchy like fire</td>\n",
       "      <td>Negative</td>\n",
       "    </tr>\n",
       "    <tr>\n",
       "      <th>4</th>\n",
       "      <td>behaving mad see</td>\n",
       "      <td>Negative</td>\n",
       "    </tr>\n",
       "  </tbody>\n",
       "</table>\n",
       "</div>"
      ],
      "text/plain": [
       "                                          clean_text sentiment\n",
       "0       awww bummer shoulda got david carr third day  Negative\n",
       "1  upset update facebook texting might cry result...  Negative\n",
       "2  dived many time ball managed save 50 rest go b...  Negative\n",
       "3                    whole body feel itchy like fire  Negative\n",
       "4                                   behaving mad see  Negative"
      ]
     },
     "execution_count": 16,
     "metadata": {},
     "output_type": "execute_result"
    }
   ],
   "source": [
    "# clean the text for model training\n",
    "df['clean_text'] = df['text'].apply(lambda text: preprocess_text(text, True))\n",
    "df[['clean_text', 'sentiment']].head()"
   ]
  },
  {
   "cell_type": "markdown",
   "metadata": {},
   "source": [
    "### Split the dataset"
   ]
  },
  {
   "cell_type": "code",
   "execution_count": 17,
   "metadata": {
    "execution": {
     "iopub.execute_input": "2023-11-15T21:09:11.159662Z",
     "iopub.status.busy": "2023-11-15T21:09:11.159380Z",
     "iopub.status.idle": "2023-11-15T21:09:11.164580Z",
     "shell.execute_reply": "2023-11-15T21:09:11.163621Z",
     "shell.execute_reply.started": "2023-11-15T21:09:11.159628Z"
    }
   },
   "outputs": [],
   "source": [
    "# create X and y\n",
    "X = df['clean_text']\n",
    "y = df['sentiment']"
   ]
  },
  {
   "cell_type": "code",
   "execution_count": 18,
   "metadata": {
    "execution": {
     "iopub.execute_input": "2023-11-15T21:09:11.166351Z",
     "iopub.status.busy": "2023-11-15T21:09:11.166035Z",
     "iopub.status.idle": "2023-11-15T21:09:11.861687Z",
     "shell.execute_reply": "2023-11-15T21:09:11.860927Z",
     "shell.execute_reply.started": "2023-11-15T21:09:11.166325Z"
    }
   },
   "outputs": [
    {
     "data": {
      "text/plain": [
       "((1120000,), (480000,), (1120000,), (480000,))"
      ]
     },
     "execution_count": 18,
     "metadata": {},
     "output_type": "execute_result"
    }
   ],
   "source": [
    "# split into train and test datasets\n",
    "X_train, X_test, y_train, y_test = train_test_split(X, y, test_size=0.3, random_state=42)\n",
    "X_train.shape, X_test.shape, y_train.shape, y_test.shape"
   ]
  },
  {
   "cell_type": "markdown",
   "metadata": {},
   "source": [
    "### Generate Word Embeddings using Word2Vec"
   ]
  },
  {
   "cell_type": "markdown",
   "metadata": {},
   "source": [
    "`word2vec is an algorithm to train word embeddings: given a raw text, it calculates a word vector for every word in the vocabulary. These vectors can be used in other applications, thus they form a pretrained model.`"
   ]
  },
  {
   "cell_type": "code",
   "execution_count": 19,
   "metadata": {
    "execution": {
     "iopub.execute_input": "2023-11-15T21:09:11.862940Z",
     "iopub.status.busy": "2023-11-15T21:09:11.862694Z",
     "iopub.status.idle": "2023-11-15T21:09:15.947089Z",
     "shell.execute_reply": "2023-11-15T21:09:15.946201Z",
     "shell.execute_reply.started": "2023-11-15T21:09:11.862915Z"
    }
   },
   "outputs": [
    {
     "data": {
      "text/plain": [
       "1120000"
      ]
     },
     "execution_count": 19,
     "metadata": {},
     "output_type": "execute_result"
    }
   ],
   "source": [
    "# split text into tokens\n",
    "train_documents = [text.split() for text in X_train]\n",
    "len(train_documents)"
   ]
  },
  {
   "cell_type": "code",
   "execution_count": 20,
   "metadata": {
    "execution": {
     "iopub.execute_input": "2023-11-15T21:09:15.948115Z",
     "iopub.status.busy": "2023-11-15T21:09:15.947897Z",
     "iopub.status.idle": "2023-11-15T21:09:15.953120Z",
     "shell.execute_reply": "2023-11-15T21:09:15.952459Z",
     "shell.execute_reply.started": "2023-11-15T21:09:15.948092Z"
    }
   },
   "outputs": [],
   "source": [
    "# initialize word2vec\n",
    "w2v_model = Word2Vec(vector_size=W2V_SIZE, window=W2V_WINDOW, min_count=W2V_MIN_COUNT)"
   ]
  },
  {
   "cell_type": "code",
   "execution_count": 21,
   "metadata": {
    "execution": {
     "iopub.execute_input": "2023-11-15T21:09:15.954119Z",
     "iopub.status.busy": "2023-11-15T21:09:15.953900Z",
     "iopub.status.idle": "2023-11-15T21:09:18.800554Z",
     "shell.execute_reply": "2023-11-15T21:09:18.799626Z",
     "shell.execute_reply.started": "2023-11-15T21:09:15.954097Z"
    }
   },
   "outputs": [],
   "source": [
    "# build vocabulary\n",
    "w2v_model.build_vocab(train_documents)"
   ]
  },
  {
   "cell_type": "code",
   "execution_count": 22,
   "metadata": {
    "execution": {
     "iopub.execute_input": "2023-11-15T21:09:18.802118Z",
     "iopub.status.busy": "2023-11-15T21:09:18.801864Z",
     "iopub.status.idle": "2023-11-15T21:14:21.301132Z",
     "shell.execute_reply": "2023-11-15T21:14:21.300344Z",
     "shell.execute_reply.started": "2023-11-15T21:09:18.802086Z"
    }
   },
   "outputs": [
    {
     "data": {
      "text/plain": [
       "(214340278, 242318700)"
      ]
     },
     "execution_count": 22,
     "metadata": {},
     "output_type": "execute_result"
    }
   ],
   "source": [
    "# train the word2vec model\n",
    "w2v_model.train(train_documents, total_examples=len(train_documents), epochs=W2V_EPOCH)"
   ]
  },
  {
   "cell_type": "markdown",
   "metadata": {},
   "source": [
    "### Tokenize the Text"
   ]
  },
  {
   "cell_type": "code",
   "execution_count": 23,
   "metadata": {
    "execution": {
     "iopub.execute_input": "2023-11-15T21:14:21.302417Z",
     "iopub.status.busy": "2023-11-15T21:14:21.302135Z",
     "iopub.status.idle": "2023-11-15T21:14:35.237046Z",
     "shell.execute_reply": "2023-11-15T21:14:35.235816Z",
     "shell.execute_reply.started": "2023-11-15T21:14:21.302392Z"
    }
   },
   "outputs": [
    {
     "name": "stdout",
     "output_type": "stream",
     "text": [
      "Total Words in Vocabulary 255989\n"
     ]
    }
   ],
   "source": [
    "# tokenize text\n",
    "tokenizer = Tokenizer()\n",
    "tokenizer.fit_on_texts(X_train)\n",
    "\n",
    "vocab_size = len(tokenizer.word_index) + 1\n",
    "print('Total Words in Vocabulary', vocab_size)"
   ]
  },
  {
   "cell_type": "code",
   "execution_count": 24,
   "metadata": {
    "execution": {
     "iopub.execute_input": "2023-11-15T21:14:35.238535Z",
     "iopub.status.busy": "2023-11-15T21:14:35.238238Z",
     "iopub.status.idle": "2023-11-15T21:14:57.417681Z",
     "shell.execute_reply": "2023-11-15T21:14:57.416751Z",
     "shell.execute_reply.started": "2023-11-15T21:14:35.238510Z"
    }
   },
   "outputs": [],
   "source": [
    "# pad sequences\n",
    "X_train_ps = pad_sequences(tokenizer.texts_to_sequences(X_train), maxlen=MAX_LENGTH)\n",
    "X_test_ps = pad_sequences(tokenizer.texts_to_sequences(X_test), maxlen=MAX_LENGTH)"
   ]
  },
  {
   "cell_type": "code",
   "execution_count": 25,
   "metadata": {
    "execution": {
     "iopub.execute_input": "2023-11-15T21:14:57.419238Z",
     "iopub.status.busy": "2023-11-15T21:14:57.418870Z",
     "iopub.status.idle": "2023-11-15T21:14:57.505795Z",
     "shell.execute_reply": "2023-11-15T21:14:57.505053Z",
     "shell.execute_reply.started": "2023-11-15T21:14:57.419198Z"
    }
   },
   "outputs": [
    {
     "data": {
      "text/plain": [
       "['Negative', 'Positive']"
      ]
     },
     "execution_count": 25,
     "metadata": {},
     "output_type": "execute_result"
    }
   ],
   "source": [
    "# encode the sentiments\n",
    "sentiments = df['sentiment'].unique().tolist()\n",
    "sentiments"
   ]
  },
  {
   "cell_type": "code",
   "execution_count": 26,
   "metadata": {
    "execution": {
     "iopub.execute_input": "2023-11-15T21:14:57.507084Z",
     "iopub.status.busy": "2023-11-15T21:14:57.506859Z",
     "iopub.status.idle": "2023-11-15T21:14:57.760401Z",
     "shell.execute_reply": "2023-11-15T21:14:57.759156Z",
     "shell.execute_reply.started": "2023-11-15T21:14:57.507061Z"
    }
   },
   "outputs": [
    {
     "name": "stdout",
     "output_type": "stream",
     "text": [
      "y_train_le (1120000, 1)\n",
      "y_test_le (480000, 1)\n"
     ]
    }
   ],
   "source": [
    "# perform label encoding\n",
    "encoder = LabelEncoder()\n",
    "encoder.fit(y_train)\n",
    "\n",
    "y_train_le = encoder.transform(y_train)\n",
    "y_test_le = encoder.transform(y_test)\n",
    "\n",
    "y_train_le = y_train_le.reshape(-1, 1)\n",
    "y_test_le = y_test_le.reshape(-1, 1)\n",
    "\n",
    "print('y_train_le', y_train_le.shape)\n",
    "print('y_test_le', y_test_le.shape)"
   ]
  },
  {
   "cell_type": "code",
   "execution_count": 27,
   "metadata": {
    "execution": {
     "iopub.execute_input": "2023-11-15T21:14:57.762263Z",
     "iopub.status.busy": "2023-11-15T21:14:57.761922Z",
     "iopub.status.idle": "2023-11-15T21:14:57.770622Z",
     "shell.execute_reply": "2023-11-15T21:14:57.769247Z",
     "shell.execute_reply.started": "2023-11-15T21:14:57.762238Z"
    }
   },
   "outputs": [
    {
     "data": {
      "text/plain": [
       "((1120000, 300), (1120000, 1), (480000, 300), (480000, 1))"
      ]
     },
     "execution_count": 27,
     "metadata": {},
     "output_type": "execute_result"
    }
   ],
   "source": [
    "# print shapes\n",
    "X_train_ps.shape, y_train_le.shape, X_test_ps.shape, y_test_le.shape"
   ]
  },
  {
   "cell_type": "markdown",
   "metadata": {},
   "source": [
    "## Build and Train the Model"
   ]
  },
  {
   "cell_type": "code",
   "execution_count": 28,
   "metadata": {
    "execution": {
     "iopub.execute_input": "2023-11-15T21:14:57.776145Z",
     "iopub.status.busy": "2023-11-15T21:14:57.775873Z",
     "iopub.status.idle": "2023-11-15T21:14:58.099191Z",
     "shell.execute_reply": "2023-11-15T21:14:58.098374Z",
     "shell.execute_reply.started": "2023-11-15T21:14:57.776120Z"
    }
   },
   "outputs": [
    {
     "name": "stdout",
     "output_type": "stream",
     "text": [
      "(255989, 300)\n"
     ]
    }
   ],
   "source": [
    "# generate embedding matrix\n",
    "embedding_matrix = np.zeros((vocab_size, W2V_SIZE))\n",
    "for word, i in tokenizer.word_index.items():\n",
    "  if word in w2v_model.wv:\n",
    "    embedding_matrix[i] = w2v_model.wv[word]\n",
    "print(embedding_matrix.shape)"
   ]
  },
  {
   "cell_type": "code",
   "execution_count": 29,
   "metadata": {
    "execution": {
     "iopub.execute_input": "2023-11-15T21:14:58.100562Z",
     "iopub.status.busy": "2023-11-15T21:14:58.100312Z",
     "iopub.status.idle": "2023-11-15T21:15:00.338822Z",
     "shell.execute_reply": "2023-11-15T21:15:00.337930Z",
     "shell.execute_reply.started": "2023-11-15T21:14:58.100536Z"
    }
   },
   "outputs": [
    {
     "name": "stdout",
     "output_type": "stream",
     "text": [
      "WARNING:tensorflow:Layer lstm will not use cuDNN kernels since it doesn't meet the criteria. It will use a generic GPU kernel as fallback when running on GPU.\n",
      "WARNING:tensorflow:Layer lstm will not use cuDNN kernels since it doesn't meet the criteria. It will use a generic GPU kernel as fallback when running on GPU.\n",
      "WARNING:tensorflow:Layer lstm will not use cuDNN kernels since it doesn't meet the criteria. It will use a generic GPU kernel as fallback when running on GPU.\n"
     ]
    }
   ],
   "source": [
    "# build the model\n",
    "sa_model = Sequential()\n",
    "sa_model.add(Embedding(vocab_size, W2V_SIZE, weights=[embedding_matrix], input_length=MAX_LENGTH, trainable=False))\n",
    "sa_model.add(SpatialDropout1D(0.2))\n",
    "sa_model.add(Conv1D(64, 5, activation='relu'))\n",
    "sa_model.add(Bidirectional(LSTM(64, dropout=0.2, recurrent_dropout=0.2)))\n",
    "sa_model.add(Dense(512, activation='relu'))\n",
    "sa_model.add(Dropout(0.5))\n",
    "sa_model.add(Dense(512, activation='relu'))\n",
    "sa_model.add(Dense(1, activation='sigmoid'))"
   ]
  },
  {
   "cell_type": "code",
   "execution_count": 30,
   "metadata": {
    "execution": {
     "iopub.execute_input": "2023-11-15T21:15:00.340010Z",
     "iopub.status.busy": "2023-11-15T21:15:00.339781Z",
     "iopub.status.idle": "2023-11-15T21:15:00.362026Z",
     "shell.execute_reply": "2023-11-15T21:15:00.361283Z",
     "shell.execute_reply.started": "2023-11-15T21:15:00.339986Z"
    }
   },
   "outputs": [
    {
     "name": "stdout",
     "output_type": "stream",
     "text": [
      "Model: \"sequential\"\n",
      "_________________________________________________________________\n",
      " Layer (type)                Output Shape              Param #   \n",
      "=================================================================\n",
      " embedding (Embedding)       (None, 300, 300)          76796700  \n",
      "                                                                 \n",
      " spatial_dropout1d (SpatialD  (None, 300, 300)         0         \n",
      " ropout1D)                                                       \n",
      "                                                                 \n",
      " conv1d (Conv1D)             (None, 296, 64)           96064     \n",
      "                                                                 \n",
      " bidirectional (Bidirectiona  (None, 128)              66048     \n",
      " l)                                                              \n",
      "                                                                 \n",
      " dense (Dense)               (None, 512)               66048     \n",
      "                                                                 \n",
      " dropout (Dropout)           (None, 512)               0         \n",
      "                                                                 \n",
      " dense_1 (Dense)             (None, 512)               262656    \n",
      "                                                                 \n",
      " dense_2 (Dense)             (None, 1)                 513       \n",
      "                                                                 \n",
      "=================================================================\n",
      "Total params: 77,288,029\n",
      "Trainable params: 491,329\n",
      "Non-trainable params: 76,796,700\n",
      "_________________________________________________________________\n"
     ]
    }
   ],
   "source": [
    "# print model summary\n",
    "sa_model.summary()"
   ]
  },
  {
   "cell_type": "code",
   "execution_count": 31,
   "metadata": {
    "execution": {
     "iopub.execute_input": "2023-11-15T21:15:00.363229Z",
     "iopub.status.busy": "2023-11-15T21:15:00.362928Z",
     "iopub.status.idle": "2023-11-15T21:15:00.375821Z",
     "shell.execute_reply": "2023-11-15T21:15:00.375010Z",
     "shell.execute_reply.started": "2023-11-15T21:15:00.363191Z"
    }
   },
   "outputs": [],
   "source": [
    "# compile the model\n",
    "sa_model.compile(loss='binary_crossentropy', optimizer='adam', metrics=['accuracy'])"
   ]
  },
  {
   "cell_type": "code",
   "execution_count": 32,
   "metadata": {
    "execution": {
     "iopub.execute_input": "2023-11-15T21:15:00.377350Z",
     "iopub.status.busy": "2023-11-15T21:15:00.376833Z",
     "iopub.status.idle": "2023-11-15T21:15:00.381030Z",
     "shell.execute_reply": "2023-11-15T21:15:00.380345Z",
     "shell.execute_reply.started": "2023-11-15T21:15:00.377327Z"
    }
   },
   "outputs": [],
   "source": [
    "# initialize call backs\n",
    "callbacks = [ReduceLROnPlateau(monitor='val_loss', patience=5, cooldown=0),\n",
    "              EarlyStopping(monitor='val_accuracy', min_delta=1e-4, patience=5)]"
   ]
  },
  {
   "cell_type": "code",
   "execution_count": 33,
   "metadata": {
    "execution": {
     "iopub.execute_input": "2023-11-15T21:15:00.382212Z",
     "iopub.status.busy": "2023-11-15T21:15:00.382013Z",
     "iopub.status.idle": "2023-11-15T22:36:44.351554Z",
     "shell.execute_reply": "2023-11-15T22:36:44.350559Z",
     "shell.execute_reply.started": "2023-11-15T21:15:00.382193Z"
    }
   },
   "outputs": [
    {
     "name": "stdout",
     "output_type": "stream",
     "text": [
      "Epoch 1/5\n",
      "875/875 [==============================] - 987s 1s/step - loss: 0.4885 - accuracy: 0.7612 - val_loss: 0.4596 - val_accuracy: 0.7802 - lr: 0.0010\n",
      "Epoch 2/5\n",
      "875/875 [==============================] - 977s 1s/step - loss: 0.4650 - accuracy: 0.7765 - val_loss: 0.4525 - val_accuracy: 0.7842 - lr: 0.0010\n",
      "Epoch 3/5\n",
      "875/875 [==============================] - 978s 1s/step - loss: 0.4569 - accuracy: 0.7821 - val_loss: 0.4489 - val_accuracy: 0.7865 - lr: 0.0010\n",
      "Epoch 4/5\n",
      "875/875 [==============================] - 978s 1s/step - loss: 0.4512 - accuracy: 0.7854 - val_loss: 0.4473 - val_accuracy: 0.7881 - lr: 0.0010\n",
      "Epoch 5/5\n",
      "875/875 [==============================] - 983s 1s/step - loss: 0.4472 - accuracy: 0.7877 - val_loss: 0.4456 - val_accuracy: 0.7885 - lr: 0.0010\n"
     ]
    }
   ],
   "source": [
    "# train the model\n",
    "history = sa_model.fit(X_train_ps, \n",
    "                    y_train_le,\n",
    "                    batch_size=1024,\n",
    "                    epochs=5,\n",
    "                    validation_split=0.2,\n",
    "                    verbose=1,\n",
    "                    callbacks=callbacks)"
   ]
  },
  {
   "cell_type": "markdown",
   "metadata": {},
   "source": [
    "## Model Evaluation"
   ]
  },
  {
   "cell_type": "code",
   "execution_count": 34,
   "metadata": {
    "execution": {
     "iopub.execute_input": "2023-11-15T22:36:44.353186Z",
     "iopub.status.busy": "2023-11-15T22:36:44.352946Z",
     "iopub.status.idle": "2023-11-15T22:36:45.773408Z",
     "shell.execute_reply": "2023-11-15T22:36:45.772481Z",
     "shell.execute_reply.started": "2023-11-15T22:36:44.353162Z"
    }
   },
   "outputs": [
    {
     "data": {
      "image/png": "[encoded data removed]",
      "text/plain": [
       "<Figure size 640x480 with 1 Axes>"
      ]
     },
     "metadata": {},
     "output_type": "display_data"
    },
    {
     "data": {
      "image/png": "[encoded data removed]",
      "text/plain": [
       "<Figure size 640x480 with 1 Axes>"
      ]
     },
     "metadata": {},
     "output_type": "display_data"
    }
   ],
   "source": [
    "# visualize the metrics\n",
    "acc = history.history['accuracy']\n",
    "val_acc = history.history['val_accuracy']\n",
    "loss = history.history['loss']\n",
    "val_loss = history.history['val_loss']\n",
    " \n",
    "epochs = range(len(acc))\n",
    " \n",
    "plt.plot(epochs, acc, 'b', label='Training Accuracy')\n",
    "plt.plot(epochs, val_acc, 'r', label='Validation Accuracy')\n",
    "plt.title('Model Accuracy')\n",
    "plt.legend()\n",
    " \n",
    "plt.figure()\n",
    " \n",
    "plt.plot(epochs, loss, 'b', label='Training Loss')\n",
    "plt.plot(epochs, val_loss, 'r', label='Validation Loss')\n",
    "plt.title('Model Loss')\n",
    "plt.legend()\n",
    " \n",
    "plt.show()"
   ]
  },
  {
   "cell_type": "code",
   "execution_count": 35,
   "metadata": {
    "execution": {
     "iopub.execute_input": "2023-11-15T22:36:45.774760Z",
     "iopub.status.busy": "2023-11-15T22:36:45.774512Z",
     "iopub.status.idle": "2023-11-15T22:36:45.781391Z",
     "shell.execute_reply": "2023-11-15T22:36:45.780053Z",
     "shell.execute_reply.started": "2023-11-15T22:36:45.774735Z"
    }
   },
   "outputs": [],
   "source": [
    "# function to generate sentiment from score\n",
    "def generate_sentiment(score, include_neutral=False):\n",
    "    if include_neutral:\n",
    "        sentiment = NEUTRAL\n",
    "        if score <= SENTIMENT_THRESHOLDS[0]:\n",
    "            sentiment = NEGATIVE\n",
    "        elif score >= SENTIMENT_THRESHOLDS[1]:\n",
    "            sentiment = POSITIVE\n",
    "    else:\n",
    "        return NEGATIVE if score < SENTIMENT_THRESHOLD else POSITIVE\n",
    "    return sentiment"
   ]
  },
  {
   "cell_type": "code",
   "execution_count": 36,
   "metadata": {
    "execution": {
     "iopub.execute_input": "2023-11-15T22:36:45.782701Z",
     "iopub.status.busy": "2023-11-15T22:36:45.782451Z",
     "iopub.status.idle": "2023-11-15T23:18:31.861877Z",
     "shell.execute_reply": "2023-11-15T23:18:31.860948Z",
     "shell.execute_reply.started": "2023-11-15T22:36:45.782677Z"
    }
   },
   "outputs": [
    {
     "name": "stdout",
     "output_type": "stream",
     "text": [
      "15000/15000 [==============================] - 2501s 167ms/step\n"
     ]
    }
   ],
   "source": [
    "# model prediction\n",
    "y_pred_1d = []\n",
    "y_test_1d = list(y_test_le)\n",
    "scores = sa_model.predict(X_test_ps, verbose=1)\n",
    "y_pred_1d = [0 if score < SENTIMENT_THRESHOLD else 1 for score in scores]"
   ]
  },
  {
   "cell_type": "code",
   "execution_count": 37,
   "metadata": {
    "execution": {
     "iopub.execute_input": "2023-11-15T23:18:31.863474Z",
     "iopub.status.busy": "2023-11-15T23:18:31.863080Z",
     "iopub.status.idle": "2023-11-15T23:18:33.125689Z",
     "shell.execute_reply": "2023-11-15T23:18:33.125020Z",
     "shell.execute_reply.started": "2023-11-15T23:18:31.863450Z"
    }
   },
   "outputs": [
    {
     "data": {
      "text/html": [
       "<div>\n",
       "<style scoped>\n",
       "    .dataframe tbody tr th:only-of-type {\n",
       "        vertical-align: middle;\n",
       "    }\n",
       "\n",
       "    .dataframe tbody tr th {\n",
       "        vertical-align: top;\n",
       "    }\n",
       "\n",
       "    .dataframe thead th {\n",
       "        text-align: right;\n",
       "    }\n",
       "</style>\n",
       "<table border=\"1\" class=\"dataframe\">\n",
       "  <thead>\n",
       "    <tr style=\"text-align: right;\">\n",
       "      <th></th>\n",
       "      <th>precision</th>\n",
       "      <th>recall</th>\n",
       "      <th>f1-score</th>\n",
       "      <th>support</th>\n",
       "    </tr>\n",
       "  </thead>\n",
       "  <tbody>\n",
       "    <tr>\n",
       "      <th>0</th>\n",
       "      <td>0.802582</td>\n",
       "      <td>0.766048</td>\n",
       "      <td>0.783890</td>\n",
       "      <td>239361.000000</td>\n",
       "    </tr>\n",
       "    <tr>\n",
       "      <th>1</th>\n",
       "      <td>0.777371</td>\n",
       "      <td>0.812570</td>\n",
       "      <td>0.794581</td>\n",
       "      <td>240639.000000</td>\n",
       "    </tr>\n",
       "    <tr>\n",
       "      <th>accuracy</th>\n",
       "      <td>0.789371</td>\n",
       "      <td>0.789371</td>\n",
       "      <td>0.789371</td>\n",
       "      <td>0.789371</td>\n",
       "    </tr>\n",
       "    <tr>\n",
       "      <th>macro avg</th>\n",
       "      <td>0.789977</td>\n",
       "      <td>0.789309</td>\n",
       "      <td>0.789235</td>\n",
       "      <td>480000.000000</td>\n",
       "    </tr>\n",
       "    <tr>\n",
       "      <th>weighted avg</th>\n",
       "      <td>0.789943</td>\n",
       "      <td>0.789371</td>\n",
       "      <td>0.789249</td>\n",
       "      <td>480000.000000</td>\n",
       "    </tr>\n",
       "  </tbody>\n",
       "</table>\n",
       "</div>"
      ],
      "text/plain": [
       "              precision    recall  f1-score        support\n",
       "0              0.802582  0.766048  0.783890  239361.000000\n",
       "1              0.777371  0.812570  0.794581  240639.000000\n",
       "accuracy       0.789371  0.789371  0.789371       0.789371\n",
       "macro avg      0.789977  0.789309  0.789235  480000.000000\n",
       "weighted avg   0.789943  0.789371  0.789249  480000.000000"
      ]
     },
     "execution_count": 37,
     "metadata": {},
     "output_type": "execute_result"
    }
   ],
   "source": [
    "# print classification report\n",
    "pd.DataFrame(classification_report(y_test_1d, y_pred_1d, output_dict=True)).T"
   ]
  },
  {
   "cell_type": "code",
   "execution_count": 38,
   "metadata": {
    "execution": {
     "iopub.execute_input": "2023-11-15T23:18:33.127303Z",
     "iopub.status.busy": "2023-11-15T23:18:33.126920Z",
     "iopub.status.idle": "2023-11-15T23:18:33.133739Z",
     "shell.execute_reply": "2023-11-15T23:18:33.133033Z",
     "shell.execute_reply.started": "2023-11-15T23:18:33.127277Z"
    }
   },
   "outputs": [],
   "source": [
    "def plot_confusion_matrix(cm, classes, title='Confusion matrix', cmap=plt.cm.Blues):\n",
    "\n",
    "    cm = cm.astype('float') / cm.sum(axis=1)[:, np.newaxis]\n",
    "\n",
    "    plt.imshow(cm, interpolation='nearest', cmap=cmap)\n",
    "    plt.title(title, fontsize=16)\n",
    "    plt.colorbar()\n",
    "    tick_marks = np.arange(len(classes))\n",
    "    plt.xticks(tick_marks, classes, fontsize=13)\n",
    "    plt.yticks(tick_marks, classes, fontsize=13)\n",
    "\n",
    "    fmt = '.2f'\n",
    "    thresh = cm.max() / 2.\n",
    "    for i, j in itertools.product(range(cm.shape[0]), range(cm.shape[1])):\n",
    "        plt.text(j, i, format(cm[i, j], fmt),\n",
    "                 horizontalalignment=\"center\",\n",
    "                 color=\"white\" if cm[i, j] > thresh else \"black\")\n",
    "\n",
    "    plt.ylabel('Ground Truth', fontsize=14)\n",
    "    plt.xlabel('Predicted label', fontsize=14)"
   ]
  },
  {
   "cell_type": "code",
   "execution_count": 39,
   "metadata": {
    "execution": {
     "iopub.execute_input": "2023-11-15T23:18:33.135787Z",
     "iopub.status.busy": "2023-11-15T23:18:33.135288Z",
     "iopub.status.idle": "2023-11-15T23:18:33.938416Z",
     "shell.execute_reply": "2023-11-15T23:18:33.937291Z",
     "shell.execute_reply.started": "2023-11-15T23:18:33.135747Z"
    }
   },
   "outputs": [
    {
     "data": {
      "image/png": "[encoded data removed]",
      "text/plain": [
       "<Figure size 600x600 with 2 Axes>"
      ]
     },
     "metadata": {},
     "output_type": "display_data"
    }
   ],
   "source": [
    "# display confusion matrix\n",
    "cnf_matrix = confusion_matrix(y_test_1d, y_pred_1d, labels=[0, 1])\n",
    "plt.figure(figsize=(6,6))\n",
    "plot_confusion_matrix(cnf_matrix, classes=sentiments, title=\"Confusion Matrix\")\n",
    "plt.show()"
   ]
  },
  {
   "cell_type": "code",
   "execution_count": 40,
   "metadata": {
    "execution": {
     "iopub.execute_input": "2023-11-15T23:18:33.939725Z",
     "iopub.status.busy": "2023-11-15T23:18:33.939475Z",
     "iopub.status.idle": "2023-11-15T23:18:34.618209Z",
     "shell.execute_reply": "2023-11-15T23:18:34.617397Z",
     "shell.execute_reply.started": "2023-11-15T23:18:33.939690Z"
    }
   },
   "outputs": [
    {
     "data": {
      "image/png": "[encoded data removed]",
      "text/plain": [
       "<Figure size 640x480 with 1 Axes>"
      ]
     },
     "metadata": {},
     "output_type": "display_data"
    }
   ],
   "source": [
    "# display ROC Curve\n",
    "fpr, tpr, thresholds = roc_curve(y_test_1d, y_pred_1d)\n",
    "roc_auc = auc(fpr, tpr)\n",
    "plt.figure()\n",
    "plt.plot(fpr, tpr, color='darkorange', lw=1, label='ROC curve (area = %0.2f)' % roc_auc)\n",
    "plt.xlim([0.0, 1.0])\n",
    "plt.ylim([0.0, 1.05])\n",
    "plt.xlabel('False Positive Rate')\n",
    "plt.ylabel('True Positive Rate')\n",
    "plt.title('ROC Curve')\n",
    "plt.legend(loc=\"lower right\")\n",
    "plt.show()"
   ]
  },
  {
   "cell_type": "code",
   "execution_count": 41,
   "metadata": {
    "execution": {
     "iopub.execute_input": "2023-11-15T23:18:34.619653Z",
     "iopub.status.busy": "2023-11-15T23:18:34.619405Z",
     "iopub.status.idle": "2023-11-15T23:18:34.625703Z",
     "shell.execute_reply": "2023-11-15T23:18:34.624751Z",
     "shell.execute_reply.started": "2023-11-15T23:18:34.619629Z"
    }
   },
   "outputs": [],
   "source": [
    "# function to predict sentiment from text\n",
    "def predict_sentiment(text):\n",
    "    # preprocess text\n",
    "    text = preprocess_text(text, True)\n",
    "    # tokenize text\n",
    "    padded_text = pad_sequences(tokenizer.texts_to_sequences([text]), maxlen=MAX_LENGTH)\n",
    "    # generate prediction\n",
    "    score = sa_model.predict([padded_text])[0]\n",
    "    # compute sentiment\n",
    "    sentiment = generate_sentiment(score)\n",
    "\n",
    "    return {'sentiment': sentiment, 'score': float(score[0])}  "
   ]
  },
  {
   "cell_type": "code",
   "execution_count": 42,
   "metadata": {
    "execution": {
     "iopub.execute_input": "2023-11-15T23:18:34.626984Z",
     "iopub.status.busy": "2023-11-15T23:18:34.626754Z",
     "iopub.status.idle": "2023-11-15T23:18:35.316248Z",
     "shell.execute_reply": "2023-11-15T23:18:35.315358Z",
     "shell.execute_reply.started": "2023-11-15T23:18:34.626961Z"
    }
   },
   "outputs": [
    {
     "name": "stdout",
     "output_type": "stream",
     "text": [
      "1/1 [==============================] - 1s 646ms/step\n"
     ]
    },
    {
     "data": {
      "text/plain": [
       "{'sentiment': 'Positive', 'score': 0.7094898819923401}"
      ]
     },
     "execution_count": 42,
     "metadata": {},
     "output_type": "execute_result"
    }
   ],
   "source": [
    "predict_sentiment(\"DigitalOcean's products provide a seamless and user-friendly experience, offering reliable and scalable solutions that empower developers to effortlessly deploy and manage applications with efficiency and ease.\")"
   ]
  },
  {
   "cell_type": "code",
   "execution_count": 43,
   "metadata": {
    "execution": {
     "iopub.execute_input": "2023-11-15T23:18:35.318236Z",
     "iopub.status.busy": "2023-11-15T23:18:35.317911Z",
     "iopub.status.idle": "2023-11-15T23:18:35.646814Z",
     "shell.execute_reply": "2023-11-15T23:18:35.645764Z",
     "shell.execute_reply.started": "2023-11-15T23:18:35.318208Z"
    }
   },
   "outputs": [
    {
     "name": "stdout",
     "output_type": "stream",
     "text": [
      "1/1 [==============================] - 0s 288ms/step\n"
     ]
    },
    {
     "data": {
      "text/plain": [
       "{'sentiment': 'Negative', 'score': 0.11708605289459229}"
      ]
     },
     "execution_count": 43,
     "metadata": {},
     "output_type": "execute_result"
    }
   ],
   "source": [
    "predict_sentiment(\"While DigitalOcean's products offer reasonable performance, the lack of comprehensive customer support and occasional downtime can be frustrating for users seeking a more robust and reliable hosting solution.\")"
   ]
  },
  {
   "cell_type": "markdown",
   "metadata": {},
   "source": [
    "## Save the Models"
   ]
  },
  {
   "cell_type": "code",
   "execution_count": 44,
   "metadata": {
    "execution": {
     "iopub.execute_input": "2023-11-15T23:18:35.648398Z",
     "iopub.status.busy": "2023-11-15T23:18:35.647959Z",
     "iopub.status.idle": "2023-11-15T23:18:35.653796Z",
     "shell.execute_reply": "2023-11-15T23:18:35.652899Z",
     "shell.execute_reply.started": "2023-11-15T23:18:35.648372Z"
    }
   },
   "outputs": [
    {
     "data": {
      "text/plain": [
       "'models/'"
      ]
     },
     "execution_count": 44,
     "metadata": {},
     "output_type": "execute_result"
    }
   ],
   "source": [
    "# saved models path\n",
    "models_path = os.path.join(MODELS_FOLDER + '/')\n",
    "models_path"
   ]
  },
  {
   "cell_type": "code",
   "execution_count": 45,
   "metadata": {
    "execution": {
     "iopub.execute_input": "2023-11-15T23:18:35.655131Z",
     "iopub.status.busy": "2023-11-15T23:18:35.654888Z",
     "iopub.status.idle": "2023-11-15T23:18:36.636560Z",
     "shell.execute_reply": "2023-11-15T23:18:36.635752Z",
     "shell.execute_reply.started": "2023-11-15T23:18:35.655109Z"
    }
   },
   "outputs": [],
   "source": [
    "# save models\n",
    "sa_model.save(models_path + SA_MODEL)\n",
    "pickle.dump(tokenizer, open(models_path + TOKENIZER, 'wb'))"
   ]
  },
  {
   "cell_type": "markdown",
   "metadata": {},
   "source": [
    "## Load Saved Models"
   ]
  },
  {
   "cell_type": "code",
   "execution_count": 46,
   "metadata": {
    "execution": {
     "iopub.execute_input": "2023-11-15T23:18:36.638035Z",
     "iopub.status.busy": "2023-11-15T23:18:36.637789Z",
     "iopub.status.idle": "2023-11-15T23:18:38.253971Z",
     "shell.execute_reply": "2023-11-15T23:18:38.253028Z",
     "shell.execute_reply.started": "2023-11-15T23:18:36.638011Z"
    }
   },
   "outputs": [
    {
     "name": "stdout",
     "output_type": "stream",
     "text": [
      "WARNING:tensorflow:Layer lstm will not use cuDNN kernels since it doesn't meet the criteria. It will use a generic GPU kernel as fallback when running on GPU.\n",
      "WARNING:tensorflow:Layer lstm will not use cuDNN kernels since it doesn't meet the criteria. It will use a generic GPU kernel as fallback when running on GPU.\n",
      "WARNING:tensorflow:Layer lstm will not use cuDNN kernels since it doesn't meet the criteria. It will use a generic GPU kernel as fallback when running on GPU.\n",
      "Model: \"sequential\"\n",
      "_________________________________________________________________\n",
      " Layer (type)                Output Shape              Param #   \n",
      "=================================================================\n",
      " embedding (Embedding)       (None, 300, 300)          76796700  \n",
      "                                                                 \n",
      " spatial_dropout1d (SpatialD  (None, 300, 300)         0         \n",
      " ropout1D)                                                       \n",
      "                                                                 \n",
      " conv1d (Conv1D)             (None, 296, 64)           96064     \n",
      "                                                                 \n",
      " bidirectional (Bidirectiona  (None, 128)              66048     \n",
      " l)                                                              \n",
      "                                                                 \n",
      " dense (Dense)               (None, 512)               66048     \n",
      "                                                                 \n",
      " dropout (Dropout)           (None, 512)               0         \n",
      "                                                                 \n",
      " dense_1 (Dense)             (None, 512)               262656    \n",
      "                                                                 \n",
      " dense_2 (Dense)             (None, 1)                 513       \n",
      "                                                                 \n",
      "=================================================================\n",
      "Total params: 77,288,029\n",
      "Trainable params: 491,329\n",
      "Non-trainable params: 76,796,700\n",
      "_________________________________________________________________\n"
     ]
    }
   ],
   "source": [
    "# load sentiment analysis model\n",
    "loaded_sa_model = tf.keras.models.load_model(models_path + SA_MODEL)\n",
    "loaded_sa_model.summary()"
   ]
  },
  {
   "cell_type": "code",
   "execution_count": 47,
   "metadata": {
    "execution": {
     "iopub.execute_input": "2023-11-15T23:18:38.255685Z",
     "iopub.status.busy": "2023-11-15T23:18:38.255437Z",
     "iopub.status.idle": "2023-11-15T23:18:38.579107Z",
     "shell.execute_reply": "2023-11-15T23:18:38.578087Z",
     "shell.execute_reply.started": "2023-11-15T23:18:38.255660Z"
    }
   },
   "outputs": [],
   "source": [
    "# load tokenizer\n",
    "loaded_tokenizer_model = pickle.load(open(models_path + TOKENIZER, 'rb'))"
   ]
  },
  {
   "cell_type": "markdown",
   "metadata": {},
   "source": [
    "## Predict from Loaded Models "
   ]
  },
  {
   "cell_type": "code",
   "execution_count": 48,
   "metadata": {
    "execution": {
     "iopub.execute_input": "2023-11-15T23:18:38.580652Z",
     "iopub.status.busy": "2023-11-15T23:18:38.580400Z",
     "iopub.status.idle": "2023-11-15T23:18:38.585644Z",
     "shell.execute_reply": "2023-11-15T23:18:38.584859Z",
     "shell.execute_reply.started": "2023-11-15T23:18:38.580628Z"
    }
   },
   "outputs": [],
   "source": [
    "# function to predict sentiment from loaded models\n",
    "def infer_sentiment(text):\n",
    "    # preprocess text\n",
    "    text = preprocess_text(text, True)\n",
    "    # tokenize text\n",
    "    padded_text = pad_sequences(loaded_tokenizer_model.texts_to_sequences([text]), maxlen=MAX_LENGTH)\n",
    "    # generate prediction\n",
    "    score = loaded_sa_model.predict([padded_text])[0]\n",
    "    # compute sentiment\n",
    "    sentiment = generate_sentiment(score)\n",
    "\n",
    "    return {'sentiment': sentiment, 'score': float(score[0])}  "
   ]
  },
  {
   "cell_type": "code",
   "execution_count": 49,
   "metadata": {
    "execution": {
     "iopub.execute_input": "2023-11-15T23:18:38.586747Z",
     "iopub.status.busy": "2023-11-15T23:18:38.586515Z",
     "iopub.status.idle": "2023-11-15T23:18:39.280762Z",
     "shell.execute_reply": "2023-11-15T23:18:39.279602Z",
     "shell.execute_reply.started": "2023-11-15T23:18:38.586726Z"
    }
   },
   "outputs": [
    {
     "name": "stdout",
     "output_type": "stream",
     "text": [
      "1/1 [==============================] - 1s 642ms/step\n"
     ]
    },
    {
     "data": {
      "text/plain": [
       "{'sentiment': 'Positive', 'score': 0.7094898819923401}"
      ]
     },
     "execution_count": 49,
     "metadata": {},
     "output_type": "execute_result"
    }
   ],
   "source": [
    "infer_sentiment(\"DigitalOcean's products provide a seamless and user-friendly experience, offering reliable and scalable solutions that empower developers to effortlessly deploy and manage applications with efficiency and ease.\")"
   ]
  },
  {
   "cell_type": "code",
   "execution_count": 50,
   "metadata": {
    "execution": {
     "iopub.execute_input": "2023-11-15T23:18:39.282101Z",
     "iopub.status.busy": "2023-11-15T23:18:39.281838Z",
     "iopub.status.idle": "2023-11-15T23:18:39.540547Z",
     "shell.execute_reply": "2023-11-15T23:18:39.539820Z",
     "shell.execute_reply.started": "2023-11-15T23:18:39.282075Z"
    }
   },
   "outputs": [
    {
     "name": "stdout",
     "output_type": "stream",
     "text": [
      "1/1 [==============================] - 0s 216ms/step\n"
     ]
    },
    {
     "data": {
      "text/plain": [
       "{'sentiment': 'Negative', 'score': 0.11708605289459229}"
      ]
     },
     "execution_count": 50,
     "metadata": {},
     "output_type": "execute_result"
    }
   ],
   "source": [
    "infer_sentiment(\"While DigitalOcean's products offer reasonable performance, the lack of comprehensive customer support and occasional downtime can be frustrating for users seeking a more robust and reliable hosting solution.\")"
   ]
  },
  {
   "cell_type": "code",
   "execution_count": null,
   "metadata": {},
   "outputs": [],
   "source": []
  }
 ],
 "metadata": {
  "kernelspec": {
   "display_name": "Python 3 (ipykernel)",
   "language": "python",
   "name": "python3"
  },
  "language_info": {
   "codemirror_mode": {
    "name": "ipython",
    "version": 3
   },
   "file_extension": ".py",
   "mimetype": "text/x-python",
   "name": "python",
   "nbconvert_exporter": "python",
   "pygments_lexer": "ipython3",
   "version": "3.9.16"
  }
 },
 "nbformat": 4,
 "nbformat_minor": 4
}
